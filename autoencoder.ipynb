{
 "cells": [
  {
   "cell_type": "code",
   "execution_count": 1,
   "metadata": {},
   "outputs": [
    {
     "name": "stderr",
     "output_type": "stream",
     "text": [
      "Using TensorFlow backend.\n"
     ]
    }
   ],
   "source": [
    "import keras\n",
    "import tensorflow as tf\n",
    "\n",
    "config = tf.ConfigProto( device_count = {'GPU': 1} ) \n",
    "sess = tf.Session(config=config) \n",
    "keras.backend.set_session(sess)"
   ]
  },
  {
   "cell_type": "markdown",
   "metadata": {},
   "source": [
    "# Autoencoder\n",
    "In this notebook I test how well a neural network can learn/understand the encodings we chose.\n",
    "To to this, I will use the unlabled chess games we downloaded in [this post](https://robinweitzel.github.io/nn-project/2019-04-23-gathering-data/)."
   ]
  },
  {
   "cell_type": "code",
   "execution_count": 2,
   "metadata": {},
   "outputs": [],
   "source": [
    "import json\n",
    "\n",
    "with open('data/data.json') as infile:  \n",
    "    data = json.load(infile)\n",
    "    \n",
    "with open('data/data2.json') as infile:  \n",
    "    data2 = json.load(infile)"
   ]
  },
  {
   "cell_type": "code",
   "execution_count": 3,
   "metadata": {},
   "outputs": [
    {
     "data": {
      "text/plain": [
       "78869"
      ]
     },
     "execution_count": 3,
     "metadata": {},
     "output_type": "execute_result"
    }
   ],
   "source": [
    "len(data['moves'])"
   ]
  },
  {
   "cell_type": "markdown",
   "metadata": {},
   "source": [
    "## Part 1 - Matrix representation\n",
    "First, I test how well the network can encode the matrix notation.\n",
    "I use a simple encoder-decoder architecture. There should be no need for CNNs since the representation is already \"aggregated\"."
   ]
  },
  {
   "cell_type": "code",
   "execution_count": 22,
   "metadata": {},
   "outputs": [
    {
     "name": "stdout",
     "output_type": "stream",
     "text": [
      "rnbqkbnr/pppppppp/8/8/2P5/8/PP1PPPPP/RNBQKBNR\n",
      "rnbqkbnr/pppppppp/8/8/2P5/8/PP1PPPPP/RNBQKBNR\n"
     ]
    }
   ],
   "source": [
    "# Helper methods to convert fens to the matrix representation\n",
    "import numpy as np\n",
    "\n",
    "def indexToArray(i, len_ = 13):\n",
    "    '''\n",
    "    Converts an index into a one-hot-encoded vector.\n",
    "    i - the index of the 1.\n",
    "    len_ - (optional) the len of the one-hot-vector. Default is 12.\n",
    "    returns a vector of length len_\n",
    "    '''\n",
    "    \n",
    "    array = [0] * len_\n",
    "    \n",
    "    if(i >= 0 and i < len(array)):\n",
    "        array[i] = 1\n",
    "        \n",
    "    return array\n",
    "\n",
    "def fenToMatrix(fen):\n",
    "    '''\n",
    "    Converts a fen string to a 8x8x16 matrix.\n",
    "    fen - a string in the fen notation\n",
    "    returns a 8x8x12 matrix\n",
    "    '''\n",
    "    \n",
    "    # 'rnbqkbnr/pppppppp/8/8/8/8/PPPPPPPP/RNBQKBNR'\n",
    "    pieces = {\n",
    "        '': indexToArray(0),\n",
    "        'r': indexToArray(1),\n",
    "        'n': indexToArray(2),\n",
    "        'b': indexToArray(3),\n",
    "        'q': indexToArray(4),\n",
    "        'k': indexToArray(5),\n",
    "        'p': indexToArray(6),\n",
    "        'P': indexToArray(7),\n",
    "        'R': indexToArray(8),\n",
    "        'N': indexToArray(9),\n",
    "        'B': indexToArray(10),\n",
    "        'Q': indexToArray(11),\n",
    "        'K': indexToArray(12),\n",
    "    }\n",
    "    \n",
    "    matrix = []\n",
    "    row = []\n",
    "    \n",
    "    for c in fen:\n",
    "        try:\n",
    "            cInt = int(c)\n",
    "            \n",
    "            for i in range(cInt):\n",
    "                row.append(pieces[''])\n",
    "        except: # c can not be cast as integer\n",
    "            if c == '/':\n",
    "                matrix.append(row)\n",
    "                row = []\n",
    "            else:\n",
    "                row.append(pieces[c]) \n",
    "    matrix.append(row)\n",
    "                \n",
    "    return np.array(matrix)\n",
    "\n",
    "def matrixToFen(matrix):\n",
    "    '''\n",
    "    Converts 8x8x13 matrix to a fen string.\n",
    "    matrix - a 8x8x13 matrix\n",
    "    returns a fen string\n",
    "    '''\n",
    "    \n",
    "    # 'rnbqkbnr/pppppppp/8/8/8/8/PPPPPPPP/RNBQKBNR'\n",
    "    pieces = [\n",
    "        '',\n",
    "        'r',\n",
    "        'n',\n",
    "        'b',\n",
    "        'q',\n",
    "        'k',\n",
    "        'p',\n",
    "        'P',\n",
    "        'R',\n",
    "        'N',\n",
    "        'B',\n",
    "        'Q',\n",
    "        'K',\n",
    "    ]\n",
    "        \n",
    "    matrix = (matrix > 0).astype(int) * (matrix == matrix.max(axis=2)[:,:,None]).astype(int)\n",
    "        \n",
    "    fen = \"\"\n",
    "     \n",
    "    for i in range(8):\n",
    "        row = matrix[i]\n",
    "        empty = 0\n",
    "        \n",
    "        for j in range(8):\n",
    "            square = row[j]\n",
    "            piece_found = False\n",
    "            \n",
    "            for k in range(len(pieces)):\n",
    "                piece = square[k]\n",
    "                \n",
    "                if piece == 1:\n",
    "                    if pieces[k] == '':\n",
    "                        empty += 1\n",
    "                    else:\n",
    "                        if empty > 0:\n",
    "                            fen += str(empty)\n",
    "                            empty = 0\n",
    "                        fen += pieces[k]    \n",
    "                        \n",
    "                    break\n",
    "                \n",
    "        if empty > 0:\n",
    "            fen += str(empty)  \n",
    "            \n",
    "        if i < 7:\n",
    "            fen += \"/\"  \n",
    "            \n",
    "    return fen\n",
    "\n",
    "def similarityScore(y_true, y_pred):\n",
    "    '''\n",
    "    Calculates the similarity between to chess position\n",
    "    The result is the number of squares that have the same piece/are empty accross the two boards\n",
    "    y_true - an 8x8x12 matrix\n",
    "    y_pred - and 8x8x12 matrix\n",
    "    returns a similarity between 0 and 1\n",
    "    '''\n",
    "    \n",
    "    score = 0\n",
    "    \n",
    "    y_true = (y_true > 0).astype(int) * (y_true == y_true.max(axis=2)[:,:,None]).astype(int)\n",
    "    y_pred = (y_pred > 0).astype(int) * (y_pred == y_pred.max(axis=2)[:,:,None]).astype(int)\n",
    "    \n",
    "    diff = (y_true - y_pred) ** 2\n",
    "    \n",
    "    wrong = np.sum(diff) \n",
    "    \n",
    "    return 1 - (wrong / 32)  # Two boards can at most have 32 different fields (or they can have 16 fields where different units are places which also results in a wrong-count of 32) \n",
    "    \n",
    "print(data['fens'][0][0])\n",
    "print(matrixToFen(fenToMatrix(data['fens'][0][0])))"
   ]
  },
  {
   "cell_type": "code",
   "execution_count": 5,
   "metadata": {},
   "outputs": [
    {
     "data": {
      "application/vnd.jupyter.widget-view+json": {
       "model_id": "62d9d056e0c24deb9e145683aad14763",
       "version_major": 2,
       "version_minor": 0
      },
      "text/plain": [
       "HBox(children=(IntProgress(value=0, max=78869), HTML(value='')))"
      ]
     },
     "metadata": {},
     "output_type": "display_data"
    },
    {
     "name": "stdout",
     "output_type": "stream",
     "text": [
      "\n"
     ]
    },
    {
     "data": {
      "text/plain": [
       "5786970"
      ]
     },
     "execution_count": 5,
     "metadata": {},
     "output_type": "execute_result"
    }
   ],
   "source": [
    "# Ungrouping the fens since we do not need to know to which game they belonged for this task\n",
    "from tqdm import tqdm_notebook as tqdm\n",
    "\n",
    "fens = []\n",
    "for fs in tqdm(data['fens']):\n",
    "    for f in fs:\n",
    "        fens.append(f) # We can not also convert the fen to matrix since that would take approx. 30GB of RAM\n",
    "        \n",
    "len(fens)"
   ]
  },
  {
   "cell_type": "code",
   "execution_count": 6,
   "metadata": {},
   "outputs": [
    {
     "data": {
      "text/plain": [
       "(8, 8, 13)"
      ]
     },
     "execution_count": 6,
     "metadata": {},
     "output_type": "execute_result"
    }
   ],
   "source": [
    "# Since we can not directly unpack the fens to matrices, we need a Datagenerator to do this while the model is running\n",
    "fenToMatrix(fens[0]).shape"
   ]
  },
  {
   "cell_type": "code",
   "execution_count": 7,
   "metadata": {},
   "outputs": [
    {
     "data": {
      "text/plain": [
       "(64, 8, 8, 13)"
      ]
     },
     "execution_count": 7,
     "metadata": {},
     "output_type": "execute_result"
    }
   ],
   "source": [
    "import keras\n",
    "\n",
    "class DataGenerator(keras.utils.Sequence):\n",
    "    'Generates data for Keras'\n",
    "    def __init__(self, fens):\n",
    "        'Initialization'\n",
    "        self.batch_size = 64\n",
    "        self.fens = fens\n",
    "\n",
    "    def __len__(self):\n",
    "        'Denotes the number of batches per epoch'\n",
    "        return int(np.floor(len(self.fens) / self.batch_size))\n",
    "\n",
    "    def __getitem__(self, index):\n",
    "        'Generate one batch of data'\n",
    "        # Generate indexes of the batch\n",
    "        fens = self.fens[index*self.batch_size:(index+1)*self.batch_size]\n",
    "\n",
    "        # Generate data\n",
    "        X = self.__data_generation(fens)\n",
    "\n",
    "        return X\n",
    "\n",
    "    def __data_generation(self, fens):\n",
    "        'Generates data containing batch_size samples' \n",
    "        X = []\n",
    "        \n",
    "        for fen in fens:\n",
    "            X.append(fenToMatrix(fen))\n",
    "            \n",
    "        X = np.array(X)\n",
    "\n",
    "        return X, X\n",
    "    \n",
    "np.random.shuffle(fens)\n",
    "    \n",
    "training_generator = DataGenerator(fens[:5000000])\n",
    "validation_generator = DataGenerator(fens[5000000:])\n",
    "\n",
    "training_generator[0][0].shape"
   ]
  },
  {
   "cell_type": "markdown",
   "metadata": {},
   "source": [
    "Now we can train the model."
   ]
  },
  {
   "cell_type": "code",
   "execution_count": 8,
   "metadata": {},
   "outputs": [
    {
     "name": "stdout",
     "output_type": "stream",
     "text": [
      "WARNING:tensorflow:From C:\\Users\\Robin\\Anaconda3\\envs\\keras-gpu\\lib\\site-packages\\tensorflow\\python\\framework\\op_def_library.py:263: colocate_with (from tensorflow.python.framework.ops) is deprecated and will be removed in a future version.\n",
      "Instructions for updating:\n",
      "Colocations handled automatically by placer.\n"
     ]
    }
   ],
   "source": [
    "from keras.models import Model\n",
    "from keras.layers import Dense, Activation, Input, Flatten, Reshape\n",
    "from keras import metrics\n",
    "\n",
    "def Encoder():\n",
    "    X = Input(shape=(8, 8, 13))\n",
    "    f = Flatten()(X)\n",
    "    d1 = Dense(1024, activation='relu')(f)\n",
    "    d2 = Dense(512, activation='relu')(d1)\n",
    "    d3 = Dense(256, activation='relu')(d2)\n",
    "    return Model(X, d3)\n",
    "\n",
    "\n",
    "def Decoder():\n",
    "    X = Input(shape=(256,))\n",
    "    d1 = Dense(512, activation='relu')(X)\n",
    "    d2 = Dense(1024, activation='relu')(d1)\n",
    "    d3 = Dense(8*8*13, activation='relu')(d2)\n",
    "    r = Reshape((8, 8, 13))(d3)\n",
    "    return Model(X, r)\n",
    "\n",
    "\n",
    "# define input to the model:\n",
    "X = Input(shape=(8, 8, 13))\n",
    "\n",
    "# make the model:\n",
    "autoencoder = Model(X, Decoder()(Encoder()(X)))\n",
    "\n",
    "# compile the model:\n",
    "autoencoder.compile(optimizer='adadelta', loss='binary_crossentropy', metrics=[metrics.categorical_accuracy])"
   ]
  },
  {
   "cell_type": "code",
   "execution_count": 10,
   "metadata": {},
   "outputs": [
    {
     "data": {
      "application/vnd.jupyter.widget-view+json": {
       "model_id": "fc74c54d175446cf8c4d494a7faa37e1",
       "version_major": 2,
       "version_minor": 0
      },
      "text/plain": [
       "HBox(children=(IntProgress(value=0, description='Training', max=3, style=ProgressStyle(description_width='init…"
      ]
     },
     "metadata": {},
     "output_type": "display_data"
    },
    {
     "data": {
      "application/vnd.jupyter.widget-view+json": {
       "model_id": "",
       "version_major": 2,
       "version_minor": 0
      },
      "text/plain": [
       "HBox(children=(IntProgress(value=0, description='Epoch 0', max=78125, style=ProgressStyle(description_width='i…"
      ]
     },
     "metadata": {},
     "output_type": "display_data"
    },
    {
     "data": {
      "application/vnd.jupyter.widget-view+json": {
       "model_id": "",
       "version_major": 2,
       "version_minor": 0
      },
      "text/plain": [
       "HBox(children=(IntProgress(value=0, description='Epoch 1', max=78125, style=ProgressStyle(description_width='i…"
      ]
     },
     "metadata": {},
     "output_type": "display_data"
    },
    {
     "data": {
      "application/vnd.jupyter.widget-view+json": {
       "model_id": "",
       "version_major": 2,
       "version_minor": 0
      },
      "text/plain": [
       "HBox(children=(IntProgress(value=0, description='Epoch 2', max=78125, style=ProgressStyle(description_width='i…"
      ]
     },
     "metadata": {},
     "output_type": "display_data"
    },
    {
     "name": "stdout",
     "output_type": "stream",
     "text": [
      "\n"
     ]
    },
    {
     "data": {
      "text/plain": [
       "<keras.callbacks.History at 0x19714548a20>"
      ]
     },
     "execution_count": 10,
     "metadata": {},
     "output_type": "execute_result"
    }
   ],
   "source": [
    "from keras_tqdm import TQDMNotebookCallback\n",
    "\n",
    "# Train model on dataset\n",
    "autoencoder.fit_generator(generator=training_generator,\n",
    "                    validation_data=validation_generator,\n",
    "                    epochs=3, verbose=0, callbacks=[TQDMNotebookCallback()])"
   ]
  },
  {
   "cell_type": "code",
   "execution_count": 11,
   "metadata": {},
   "outputs": [
    {
     "data": {
      "text/plain": [
       "[0.05772593075490727, 0.9583846063061666]"
      ]
     },
     "execution_count": 11,
     "metadata": {},
     "output_type": "execute_result"
    }
   ],
   "source": [
    "autoencoder.evaluate_generator(validation_generator)"
   ]
  },
  {
   "cell_type": "code",
   "execution_count": 12,
   "metadata": {},
   "outputs": [],
   "source": [
    "autoencoder.save('autoencoder1.h5')"
   ]
  },
  {
   "cell_type": "code",
   "execution_count": 14,
   "metadata": {},
   "outputs": [
    {
     "data": {
      "application/vnd.jupyter.widget-view+json": {
       "model_id": "2fe5d29e9a3a4f3eb113fed2892f1797",
       "version_major": 2,
       "version_minor": 0
      },
      "text/plain": [
       "HBox(children=(IntProgress(value=0, max=12296), HTML(value='')))"
      ]
     },
     "metadata": {},
     "output_type": "display_data"
    },
    {
     "name": "stdout",
     "output_type": "stream",
     "text": [
      "\n",
      "Accuracy 0.8594998897634394\n",
      "CompleteAccuracy 0.23132268623942745\n"
     ]
    }
   ],
   "source": [
    "accuracy = 0\n",
    "complete_accuracy = 0\n",
    "counter = 0\n",
    "for X, y in tqdm(validation_generator):\n",
    "    preds = autoencoder.predict(X)\n",
    "    for i in range(len(X)):\n",
    "        sim = similarityScore(y[i], preds[i])\n",
    "        \n",
    "        if sim == 1:\n",
    "            complete_accuracy += 1\n",
    "        accuracy += sim\n",
    "        counter += 1\n",
    "accuracy /= counter\n",
    "complete_accuracy /= counter\n",
    "\n",
    "print(\"Accuracy\", accuracy)\n",
    "print(\"CompleteAccuracy\", complete_accuracy)"
   ]
  }
 ],
 "metadata": {
  "kernelspec": {
   "display_name": "Python 3",
   "language": "python",
   "name": "python3"
  },
  "language_info": {
   "codemirror_mode": {
    "name": "ipython",
    "version": 3
   },
   "file_extension": ".py",
   "mimetype": "text/x-python",
   "name": "python",
   "nbconvert_exporter": "python",
   "pygments_lexer": "ipython3",
   "version": "3.6.8"
  }
 },
 "nbformat": 4,
 "nbformat_minor": 2
}
