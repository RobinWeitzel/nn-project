{
 "cells": [
  {
   "cell_type": "code",
   "execution_count": 1,
   "metadata": {},
   "outputs": [
    {
     "name": "stderr",
     "output_type": "stream",
     "text": [
      "Using TensorFlow backend.\n"
     ]
    }
   ],
   "source": [
    "import keras\n",
    "import tensorflow as tf\n",
    "\n",
    "config = tf.ConfigProto( device_count = {'GPU': 1} ) \n",
    "sess = tf.Session(config=config) \n",
    "keras.backend.set_session(sess)"
   ]
  },
  {
   "cell_type": "markdown",
   "metadata": {},
   "source": [
    "# Autoencoder\n",
    "In this notebook I test how well a neural network can learn/understand the encodings we chose.\n",
    "To to this, I will use the unlabled chess games we downloaded in [this post](https://robinweitzel.github.io/nn-project/2019-04-23-gathering-data/)."
   ]
  },
  {
   "cell_type": "code",
   "execution_count": 2,
   "metadata": {},
   "outputs": [],
   "source": [
    "import json\n",
    "\n",
    "with open('data/data.json') as infile:  \n",
    "    data = json.load(infile)\n",
    "    \n",
    "with open('data/data2.json') as infile:  \n",
    "    data2 = json.load(infile)"
   ]
  },
  {
   "cell_type": "code",
   "execution_count": 3,
   "metadata": {},
   "outputs": [
    {
     "data": {
      "text/plain": [
       "78869"
      ]
     },
     "execution_count": 3,
     "metadata": {},
     "output_type": "execute_result"
    }
   ],
   "source": [
    "len(data['moves'])"
   ]
  },
  {
   "cell_type": "markdown",
   "metadata": {},
   "source": [
    "## Part 2 - Adding Moves as words"
   ]
  },
  {
   "cell_type": "code",
   "execution_count": 4,
   "metadata": {},
   "outputs": [
    {
     "name": "stdout",
     "output_type": "stream",
     "text": [
      "rnbqkbnr/pppppppp/8/8/2P5/8/PP1PPPPP/RNBQKBNR\n",
      "rnbqkbnr/pppppppp/8/8/2P5/8/PP1PPPPP/RNBQKBNR\n"
     ]
    }
   ],
   "source": [
    "# Helper methods to convert fens to the matrix representation\n",
    "import numpy as np\n",
    "\n",
    "def indexToArray(i, len_ = 13):\n",
    "    '''\n",
    "    Converts an index into a one-hot-encoded vector.\n",
    "    i - the index of the 1.\n",
    "    len_ - (optional) the len of the one-hot-vector. Default is 12.\n",
    "    returns a vector of length len_\n",
    "    '''\n",
    "    \n",
    "    array = [0] * len_\n",
    "    \n",
    "    if(i >= 0 and i < len(array)):\n",
    "        array[i] = 1\n",
    "        \n",
    "    return array\n",
    "\n",
    "def fenToMatrix(fen):\n",
    "    '''\n",
    "    Converts a fen string to a 8x8x16 matrix.\n",
    "    fen - a string in the fen notation\n",
    "    returns a 8x8x12 matrix\n",
    "    '''\n",
    "    \n",
    "    # 'rnbqkbnr/pppppppp/8/8/8/8/PPPPPPPP/RNBQKBNR'\n",
    "    pieces = {\n",
    "        '': indexToArray(0),\n",
    "        'r': indexToArray(1),\n",
    "        'n': indexToArray(2),\n",
    "        'b': indexToArray(3),\n",
    "        'q': indexToArray(4),\n",
    "        'k': indexToArray(5),\n",
    "        'p': indexToArray(6),\n",
    "        'P': indexToArray(7),\n",
    "        'R': indexToArray(8),\n",
    "        'N': indexToArray(9),\n",
    "        'B': indexToArray(10),\n",
    "        'Q': indexToArray(11),\n",
    "        'K': indexToArray(12),\n",
    "    }\n",
    "    \n",
    "    matrix = []\n",
    "    row = []\n",
    "    \n",
    "    for c in fen:\n",
    "        try:\n",
    "            cInt = int(c)\n",
    "            \n",
    "            for i in range(cInt):\n",
    "                row.append(pieces[''])\n",
    "        except: # c can not be cast as integer\n",
    "            if c == '/':\n",
    "                matrix.append(row)\n",
    "                row = []\n",
    "            else:\n",
    "                row.append(pieces[c]) \n",
    "    matrix.append(row)\n",
    "                \n",
    "    return np.array(matrix)\n",
    "\n",
    "def matrixToFen(matrix):\n",
    "    '''\n",
    "    Converts 8x8x13 matrix to a fen string.\n",
    "    matrix - a 8x8x13 matrix\n",
    "    returns a fen string\n",
    "    '''\n",
    "    \n",
    "    # 'rnbqkbnr/pppppppp/8/8/8/8/PPPPPPPP/RNBQKBNR'\n",
    "    pieces = [\n",
    "        '',\n",
    "        'r',\n",
    "        'n',\n",
    "        'b',\n",
    "        'q',\n",
    "        'k',\n",
    "        'p',\n",
    "        'P',\n",
    "        'R',\n",
    "        'N',\n",
    "        'B',\n",
    "        'Q',\n",
    "        'K',\n",
    "    ]\n",
    "        \n",
    "    matrix = (matrix > 0).astype(int) * (matrix == matrix.max(axis=2)[:,:,None]).astype(int)\n",
    "        \n",
    "    fen = \"\"\n",
    "     \n",
    "    for i in range(8):\n",
    "        row = matrix[i]\n",
    "        empty = 0\n",
    "        \n",
    "        for j in range(8):\n",
    "            square = row[j]\n",
    "            piece_found = False\n",
    "            \n",
    "            for k in range(len(pieces)):\n",
    "                piece = square[k]\n",
    "                \n",
    "                if piece == 1:\n",
    "                    if pieces[k] == '':\n",
    "                        empty += 1\n",
    "                    else:\n",
    "                        if empty > 0:\n",
    "                            fen += str(empty)\n",
    "                            empty = 0\n",
    "                        fen += pieces[k]               \n",
    "                \n",
    "        if empty > 0:\n",
    "            fen += str(empty)  \n",
    "            \n",
    "        if i < 7:\n",
    "            fen += \"/\"  \n",
    "            \n",
    "    return fen\n",
    "\n",
    "def similarityScore(y_true, y_pred):\n",
    "    '''\n",
    "    Calculates the similarity between to chess position\n",
    "    The result is the number of squares that have the same piece/are empty accross the two boards\n",
    "    y_true - an 8x8x12 matrix\n",
    "    y_pred - and 8x8x12 matrix\n",
    "    returns a similarity between 0 and 1\n",
    "    '''\n",
    "    \n",
    "    score = 0\n",
    "    \n",
    "    y_true = (y_true > 0).astype(int) * (y_true == y_true.max(axis=2)[:,:,None]).astype(int)\n",
    "    y_pred = (y_pred > 0).astype(int) * (y_pred == y_pred.max(axis=2)[:,:,None]).astype(int)\n",
    "    \n",
    "    diff = (y_true - y_pred) ** 2\n",
    "    \n",
    "    wrong = np.sum(diff) \n",
    "    \n",
    "    return 1 - (wrong / 32)  # Two boards can at most have 32 different fields (or they can have 16 fields where different units are places which also results in a wrong-count of 32) \n",
    "    \n",
    "print(data['fens'][0][0])\n",
    "print(matrixToFen(fenToMatrix(data['fens'][0][0])))"
   ]
  },
  {
   "cell_type": "code",
   "execution_count": 5,
   "metadata": {},
   "outputs": [
    {
     "name": "stdout",
     "output_type": "stream",
     "text": [
      "Games 78869\n"
     ]
    },
    {
     "data": {
      "application/vnd.jupyter.widget-view+json": {
       "model_id": "19f96c358c544b6eac74fc3aa921afc7",
       "version_major": 2,
       "version_minor": 0
      },
      "text/plain": [
       "HBox(children=(IntProgress(value=0, max=78869), HTML(value='')))"
      ]
     },
     "metadata": {},
     "output_type": "display_data"
    },
    {
     "name": "stdout",
     "output_type": "stream",
     "text": [
      "\n"
     ]
    },
    {
     "data": {
      "application/vnd.jupyter.widget-view+json": {
       "model_id": "f073483a7dfd478493e08f61d5d67204",
       "version_major": 2,
       "version_minor": 0
      },
      "text/plain": [
       "HBox(children=(IntProgress(value=0, max=2207), HTML(value='')))"
      ]
     },
     "metadata": {},
     "output_type": "display_data"
    },
    {
     "name": "stdout",
     "output_type": "stream",
     "text": [
      "\n",
      "Vocabs 5871\n"
     ]
    },
    {
     "data": {
      "application/vnd.jupyter.widget-view+json": {
       "model_id": "55efa7b806d64025b108389af3227d59",
       "version_major": 2,
       "version_minor": 0
      },
      "text/plain": [
       "HBox(children=(IntProgress(value=0, max=78869), HTML(value='')))"
      ]
     },
     "metadata": {},
     "output_type": "display_data"
    },
    {
     "name": "stdout",
     "output_type": "stream",
     "text": [
      "\n",
      "Longest game 600\n"
     ]
    }
   ],
   "source": [
    "from tqdm import tqdm_notebook as tqdm\n",
    "\n",
    "games = data['moves']\n",
    "print(\"Games\", len(games))\n",
    "\n",
    "# Extract words\n",
    "vocab = {\n",
    "    \"<pad>\": 0,\n",
    "    \"<unk>\": 1\n",
    "}\n",
    "\n",
    "counter = len(vocab)\n",
    "\n",
    "for ms in tqdm(games):\n",
    "    for m in ms:\n",
    "        if m not in vocab:\n",
    "            vocab[m] = counter\n",
    "            counter += 1\n",
    "            \n",
    "for game in tqdm(data2['moves']):\n",
    "    for moves in game:\n",
    "        move = moves[0]\n",
    "        \n",
    "        for m in move:\n",
    "            if m not in vocab:\n",
    "                vocab[m] = counter\n",
    "                counter += 1\n",
    "print(\"Vocabs\", len(vocab))\n",
    "\n",
    "max_ = 0\n",
    "for ms in tqdm(games):\n",
    "    max_ = max(max_, len(ms))\n",
    "    \n",
    "print(\"Longest game\", max_)"
   ]
  },
  {
   "cell_type": "code",
   "execution_count": 6,
   "metadata": {},
   "outputs": [
    {
     "data": {
      "application/vnd.jupyter.widget-view+json": {
       "model_id": "e759dbc6d5ef4070a6c2fda4add39ca9",
       "version_major": 2,
       "version_minor": 0
      },
      "text/plain": [
       "HBox(children=(IntProgress(value=0, max=78869), HTML(value='')))"
      ]
     },
     "metadata": {},
     "output_type": "display_data"
    },
    {
     "name": "stdout",
     "output_type": "stream",
     "text": [
      "\n"
     ]
    },
    {
     "data": {
      "text/plain": [
       "5786970"
      ]
     },
     "execution_count": 6,
     "metadata": {},
     "output_type": "execute_result"
    }
   ],
   "source": [
    "combined = []\n",
    "\n",
    "for i in tqdm(range(len(data['fens']))):\n",
    "    game = data['moves'][i]\n",
    "    fens = data['fens'][i]\n",
    "    \n",
    "    moves = []\n",
    "    \n",
    "    for j in range(len(game)):\n",
    "        moves.append(game[j])\n",
    "        fen = fens[j]\n",
    "\n",
    "        combined.append([moves, fen])\n",
    "        \n",
    "len(combined)"
   ]
  },
  {
   "cell_type": "code",
   "execution_count": 7,
   "metadata": {},
   "outputs": [
    {
     "data": {
      "text/plain": [
       "2"
      ]
     },
     "execution_count": 7,
     "metadata": {},
     "output_type": "execute_result"
    }
   ],
   "source": [
    "import keras\n",
    "\n",
    "class DataGenerator(keras.utils.Sequence):\n",
    "    'Generates data for Keras'\n",
    "    def __init__(self, combined, vocab):\n",
    "        'Initialization'\n",
    "        self.batch_size = 64\n",
    "        self.combined = combined\n",
    "        self.vocab = vocab\n",
    "\n",
    "    def __len__(self):\n",
    "        'Denotes the number of batches per epoch'\n",
    "        return int(np.floor(len(self.combined) / self.batch_size))\n",
    "\n",
    "    def __getitem__(self, index):\n",
    "        'Generate one batch of data'\n",
    "        # Generate indexes of the batch\n",
    "        combined = self.combined[index*self.batch_size:(index+1)*self.batch_size]\n",
    "\n",
    "        # Generate data\n",
    "        X, y = self.__data_generation(combined)\n",
    "\n",
    "        return X, y\n",
    "\n",
    "    def __data_generation(self, combined):\n",
    "        'Generates data containing batch_size samples' \n",
    "        matrices = []\n",
    "        moves_emb = []\n",
    "             \n",
    "        for moves, fen in combined:\n",
    "            matrix = fenToMatrix(fen)\n",
    "            \n",
    "            game = []\n",
    "            for move in moves:\n",
    "                if move in self.vocab:\n",
    "                    game.append(self.vocab[move])\n",
    "                else:\n",
    "                    game.append(self.vocab[\"<unk>\"])\n",
    "                    \n",
    "            game = [self.vocab[\"<pad>\"]] * (max_ - len(game)) + game\n",
    "            \n",
    "            matrices.append(matrix)\n",
    "            moves_emb.append(game)\n",
    "            \n",
    "        matrices = np.array(matrices)\n",
    "        moves_emb = np.array(moves_emb)\n",
    "            \n",
    "        return [matrices, moves_emb], matrices\n",
    "    \n",
    "np.random.shuffle(combined)"
   ]
  },
  {
   "cell_type": "code",
   "execution_count": 8,
   "metadata": {},
   "outputs": [
    {
     "name": "stdout",
     "output_type": "stream",
     "text": [
      "WARNING:tensorflow:From C:\\Users\\Robin\\Anaconda3\\envs\\keras-gpu\\lib\\site-packages\\tensorflow\\python\\framework\\op_def_library.py:263: colocate_with (from tensorflow.python.framework.ops) is deprecated and will be removed in a future version.\n",
      "Instructions for updating:\n",
      "Colocations handled automatically by placer.\n"
     ]
    }
   ],
   "source": [
    "from keras.models import Model\n",
    "from keras.layers import Dense, Activation, Input, Flatten, Reshape, LSTM, Embedding, concatenate\n",
    "from keras import metrics\n",
    "\n",
    "def Encoder():\n",
    "    matrix = Input(shape=(8, 8, 13))\n",
    "    moves = Input(shape=(600,))\n",
    "    \n",
    "    x = Flatten()(matrix)\n",
    "    x = Dense(1024, activation='relu')(x)\n",
    "    x = Dense(512, activation='relu')(x)\n",
    "    x = Dense(256, activation='relu')(x)\n",
    "    x = Model(inputs=matrix, outputs=x)\n",
    "    \n",
    "    y = Embedding(5871, 256)(moves)\n",
    "    y = LSTM(256, activation='relu', return_sequences=False)(y)\n",
    "    y = Model(inputs=moves, outputs=y)\n",
    "    \n",
    "    combined = concatenate([x.output, y.output])\n",
    "    \n",
    "    z = Dense(256, activation='relu')(combined)\n",
    "    \n",
    "    return Model(inputs=[x.input, y.input], outputs=z)\n",
    "\n",
    "def Decoder():\n",
    "    X = Input(shape=(256,))\n",
    "    d1 = Dense(512, activation='relu')(X)\n",
    "    d2 = Dense(1024, activation='relu')(d1)\n",
    "    d3 = Dense(8*8*13, activation='relu')(d2)\n",
    "    r = Reshape((8, 8, 13))(d3)\n",
    "    return Model(X, r)\n",
    "\n",
    "\n",
    "# define input to the model:\n",
    "X = [Input(shape=(8, 8, 13)), Input(shape=(None,))]\n",
    "\n",
    "# make the model:\n",
    "autoencoder = Model(X, Decoder()(Encoder()(X)))\n",
    "\n",
    "# compile the model:\n",
    "autoencoder.compile(optimizer='adadelta', loss='binary_crossentropy', metrics=[metrics.categorical_accuracy])"
   ]
  },
  {
   "cell_type": "markdown",
   "metadata": {},
   "source": [
    "Because the training takes so long I ran the below cells multiple times.\n",
    "First I set the cunter ot 0, then I ran the model 6 times, then I reset the counter.\n",
    "Thus, i ran for 1 full epoch.\n",
    "After starting the second epoch and seeing no improvement in accuracy I stopped the training."
   ]
  },
  {
   "cell_type": "code",
   "execution_count": 24,
   "metadata": {},
   "outputs": [],
   "source": [
    "import math\n",
    "\n",
    "counter = 0\n",
    "parts = math.floor(5000000 / 6)"
   ]
  },
  {
   "cell_type": "code",
   "execution_count": 25,
   "metadata": {},
   "outputs": [
    {
     "name": "stdout",
     "output_type": "stream",
     "text": [
      "Processing part 1\n"
     ]
    },
    {
     "data": {
      "application/vnd.jupyter.widget-view+json": {
       "model_id": "39edd9cba4ab4e14af51a7741f185575",
       "version_major": 2,
       "version_minor": 0
      },
      "text/plain": [
       "HBox(children=(IntProgress(value=0, description='Training', max=1, style=ProgressStyle(description_width='init…"
      ]
     },
     "metadata": {},
     "output_type": "display_data"
    },
    {
     "data": {
      "application/vnd.jupyter.widget-view+json": {
       "model_id": "",
       "version_major": 2,
       "version_minor": 0
      },
      "text/plain": [
       "HBox(children=(IntProgress(value=0, description='Epoch 0', max=13020, style=ProgressStyle(description_width='i…"
      ]
     },
     "metadata": {},
     "output_type": "display_data"
    },
    {
     "data": {
      "text/plain": [
       "<keras.callbacks.History at 0x20de5f21320>"
      ]
     },
     "execution_count": 25,
     "metadata": {},
     "output_type": "execute_result"
    }
   ],
   "source": [
    "from keras_tqdm import TQDMNotebookCallback\n",
    "\n",
    "training_generator = DataGenerator(combined[(parts*counter):(parts*(counter+1))], vocab)\n",
    "validation_generator = DataGenerator(combined[5000000:], vocab)\n",
    "\n",
    "counter += 1\n",
    "print(\"Processing part\", counter)\n",
    "\n",
    "# Train model on dataset\n",
    "autoencoder.fit_generator(generator=training_generator,\n",
    "                    validation_data=validation_generator,\n",
    "                    epochs=1, verbose=0, callbacks=[TQDMNotebookCallback()])"
   ]
  },
  {
   "cell_type": "code",
   "execution_count": 26,
   "metadata": {},
   "outputs": [],
   "source": [
    "autoencoder.save('autoencoder3.h5')"
   ]
  },
  {
   "cell_type": "code",
   "execution_count": 35,
   "metadata": {},
   "outputs": [
    {
     "name": "stdout",
     "output_type": "stream",
     "text": [
      "Input\n"
     ]
    },
    {
     "data": {
      "text/plain": [
       "'1r1q3k/p1p3b1/5n1p/1bPPB3/2Q1p3/6PP/P3NRB1/6K1'"
      ]
     },
     "execution_count": 35,
     "metadata": {},
     "output_type": "execute_result"
    }
   ],
   "source": [
    "print(\"Input\")\n",
    "matrixToFen(validation_generator[0][0][0][0])"
   ]
  },
  {
   "cell_type": "code",
   "execution_count": 36,
   "metadata": {},
   "outputs": [
    {
     "name": "stdout",
     "output_type": "stream",
     "text": [
      "Prediction\n"
     ]
    },
    {
     "data": {
      "text/plain": [
       "'r7/pp3ppp/8/8/8/8/PP3PPP/8'"
      ]
     },
     "execution_count": 36,
     "metadata": {},
     "output_type": "execute_result"
    }
   ],
   "source": [
    "print(\"Prediction\")\n",
    "matrixToFen(autoencoder.predict(validation_generator[0][0])[0])"
   ]
  }
 ],
 "metadata": {
  "kernelspec": {
   "display_name": "Python 3",
   "language": "python",
   "name": "python3"
  },
  "language_info": {
   "codemirror_mode": {
    "name": "ipython",
    "version": 3
   },
   "file_extension": ".py",
   "mimetype": "text/x-python",
   "name": "python",
   "nbconvert_exporter": "python",
   "pygments_lexer": "ipython3",
   "version": "3.6.8"
  }
 },
 "nbformat": 4,
 "nbformat_minor": 2
}
