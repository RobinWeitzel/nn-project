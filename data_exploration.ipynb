{
 "cells": [
  {
   "cell_type": "markdown",
   "metadata": {},
   "source": [
    "# Data Exploration\n",
    "In this notebook I will take a look at the different data sets that are avaibalbe.\n",
    "I will test how well they can be transformed into a format that is usable for this project and lastly store the transformed data.\n",
    "\n",
    "I use the excelent python-chess library to process data in the pgn format."
   ]
  },
  {
   "cell_type": "code",
   "execution_count": null,
   "metadata": {},
   "outputs": [],
   "source": [
    "!pip install python-chess"
   ]
  },
  {
   "cell_type": "markdown",
   "metadata": {},
   "source": [
    "The first dataset I want to look at is the FiCS Games Database: https://www.ficsgames.org/download.html\n",
    "\n",
    "This database contains games millions of games, the first ones being from 1999.\n",
    "A subcategorie are games from players with a rating above 2000.\n",
    "I will only consider these games.\n",
    "\n",
    "All games from one year can be downloaded in bluk as one pgn-file.\n",
    "Below, I will write methods to convert the pgn format into the board state or into a string of words."
   ]
  },
  {
   "cell_type": "code",
   "execution_count": null,
   "metadata": {},
   "outputs": [
    {
     "data": {
      "application/vnd.jupyter.widget-view+json": {
       "model_id": "1519be25f74a4ea886997eb74e101261",
       "version_major": 2,
       "version_minor": 0
      },
      "text/plain": [
       "HBox(children=(IntProgress(value=0, max=68121757), HTML(value='')))"
      ]
     },
     "metadata": {},
     "output_type": "display_data"
    }
   ],
   "source": [
    "import chess\n",
    "import chess.pgn \n",
    "from tqdm import tqdm_notebook as tqdm\n",
    "import re\n",
    "\n",
    "def dataExtractor(path):\n",
    "    \"\"\"\n",
    "    Extracts the moves and fens of each game as strings\n",
    "    path - the path to the pgn file in which the games are stored\n",
    "    returns an array of objects containing the moves and the fens\n",
    "    \"\"\"\n",
    "    \n",
    "    re0 = re.compile(r\"{.*?}\", re.MULTILINE)\n",
    "    re1 = re.compile(r\"{.*}\", re.MULTILINE)\n",
    "    re2 = re.compile(r\"\\d+\\..\", re.MULTILINE)\n",
    "    re3 = re.compile(r\"\\.\", re.MULTILINE)\n",
    "    re4 = re.compile(r\"\\$\\d+\", re.MULTILINE)\n",
    "    \n",
    "    pgn = open(path)\n",
    "    data = {\n",
    "        'moves': [],\n",
    "        'fens': []\n",
    "    }\n",
    "    pgn.readlines()\n",
    "    with tqdm(total=pgn.tell()-1) as pbar:\n",
    "        pgn.seek(0)\n",
    "        while True:\n",
    "            pbar.n = pgn.tell()\n",
    "            pbar.refresh()\n",
    "            game = chess.pgn.read_game(pgn)\n",
    "\n",
    "            if game is None:\n",
    "                break\n",
    "\n",
    "            string = str(game.mainline_moves())\n",
    "            string = re.sub(re0, \"\", string) # Remove comments\n",
    "            string = re.sub(re1, \"\", string)\n",
    "            string = re.sub(re2, \"\", string)\n",
    "            string = re.sub(re3, \"\", string)\n",
    "            string = re.sub(re4, \"\", string)\n",
    "\n",
    "            if \"{\" in string:\n",
    "                continue\n",
    "            \n",
    "            fens = []\n",
    "            \n",
    "            board = game.board()\n",
    "\n",
    "            for move in game.mainline_moves():\n",
    "                board.push(move)\n",
    "                fen = board.board_fen()\n",
    "                fens.append(str(fen))\n",
    "                \n",
    "            data['moves'].append(list(filter(None, string.split(\" \"))))\n",
    "            data['fens'].append(fens)\n",
    "            \n",
    "        return data\n",
    "    \n",
    "path = 'data/sample.pgn'\n",
    "\n",
    "games = dataExtractor(path)"
   ]
  },
  {
   "cell_type": "code",
   "execution_count": null,
   "metadata": {},
   "outputs": [],
   "source": [
    "games['moves'][0]"
   ]
  },
  {
   "cell_type": "markdown",
   "metadata": {},
   "source": [
    "I also wrote a method to convert the fen notation to the matrix representation.\n",
    "However, I will not store data in this format to save space."
   ]
  },
  {
   "cell_type": "code",
   "execution_count": null,
   "metadata": {},
   "outputs": [],
   "source": [
    "import numpy as np\n",
    "\n",
    "def indexToArray(i, len_ = 12):\n",
    "    '''\n",
    "    Converts an index into a one-hot-encoded vector.\n",
    "    i - the index of the 1.\n",
    "    len_ - (optional) the len of the one-hot-vector. Default is 12.\n",
    "    returns a vector of length len_\n",
    "    '''\n",
    "    \n",
    "    array = [0] * len_\n",
    "    \n",
    "    if(i >= 0 and i < len(array)):\n",
    "        array[i] = 1\n",
    "        \n",
    "    return array\n",
    "\n",
    "def fenToMatrix(fen):\n",
    "    '''\n",
    "    Converts a fen string to a 8x8x16 matrix.\n",
    "    fen - a string in the fen notation\n",
    "    returns a 8x8x16 matrix\n",
    "    '''\n",
    "    \n",
    "    # 'rnbqkbnr/pppppppp/8/8/8/8/PPPPPPPP/RNBQKBNR'\n",
    "    pieces = {\n",
    "        'r': indexToArray(0),\n",
    "        'n': indexToArray(1),\n",
    "        'b': indexToArray(2),\n",
    "        'q': indexToArray(3),\n",
    "        'k': indexToArray(4),\n",
    "        'p': indexToArray(5),\n",
    "        'P': indexToArray(6),\n",
    "        'R': indexToArray(7),\n",
    "        'N': indexToArray(8),\n",
    "        'B': indexToArray(9),\n",
    "        'Q': indexToArray(10),\n",
    "        'K': indexToArray(11),\n",
    "    }\n",
    "    \n",
    "    matrix = []\n",
    "    row = []\n",
    "    \n",
    "    for c in fen:\n",
    "        try:\n",
    "            cInt = int(c)\n",
    "            \n",
    "            for i in range(cInt):\n",
    "                row.append(indexToArray(-1))\n",
    "        except: # c can not be cast as integer       \n",
    "            if c == '/':\n",
    "                matrix.append(row)\n",
    "                row = []\n",
    "            else:\n",
    "                row.append(pieces[c]) \n",
    "    matrix.append(row)\n",
    "                \n",
    "    return matrix"
   ]
  },
  {
   "cell_type": "markdown",
   "metadata": {},
   "source": [
    "Lastly I save the data as a json"
   ]
  },
  {
   "cell_type": "code",
   "execution_count": null,
   "metadata": {},
   "outputs": [],
   "source": [
    "import json\n",
    "\n",
    "with open('data/data.json', 'w') as outfile:  \n",
    "    json.dump(games, outfile)"
   ]
  },
  {
   "cell_type": "markdown",
   "metadata": {},
   "source": [
    "## Datasets with annotation\n",
    "Next, I will look at the ~4000 games with annotations sourced from http://www.angelfire.com/games3/smartbridge/\n",
    "\n",
    "The below command will throw errors but I handle these (they are still displayed even though they are irrelevant)."
   ]
  },
  {
   "cell_type": "code",
   "execution_count": null,
   "metadata": {},
   "outputs": [],
   "source": [
    "from os import listdir\n",
    "\n",
    "annotated_games = []\n",
    "\n",
    "for file in tqdm(listdir('data/annotated')):\n",
    "    pgn = open('data/annotated/' + file)\n",
    "    while True:\n",
    "        game = chess.pgn.read_game(pgn)\n",
    "        \n",
    "        if game is None:\n",
    "            break\n",
    "            \n",
    "        if len(game.errors) > 0:\n",
    "            continue\n",
    "        \n",
    "        annotated_games.append(game)"
   ]
  },
  {
   "cell_type": "code",
   "execution_count": null,
   "metadata": {},
   "outputs": [],
   "source": [
    "len(annotated_games)"
   ]
  },
  {
   "cell_type": "code",
   "execution_count": null,
   "metadata": {},
   "outputs": [],
   "source": [
    "for moves in annotated_games[0].mainline():\n",
    "    print(str(moves.move) + \" \" + moves.comment)"
   ]
  },
  {
   "cell_type": "code",
   "execution_count": null,
   "metadata": {},
   "outputs": [],
   "source": [
    "def dataExtractor2(games):\n",
    "    \"\"\"\n",
    "    Extracts the moves and fens of each game as strings\n",
    "    path - the path to the pgn file in which the games are stored\n",
    "    returns an array of objects containing the moves and the fens\n",
    "    \"\"\"\n",
    "    \n",
    "    counter = 0\n",
    "    \n",
    "    re0 = re.compile(r\"{.*?}\", re.MULTILINE)\n",
    "    re1 = re.compile(r\"{.*}\", re.MULTILINE)\n",
    "    re2 = re.compile(r\"\\d+\\..\", re.MULTILINE)\n",
    "    re3 = re.compile(r\"\\.\", re.MULTILINE)\n",
    "    re4 = re.compile(r\"\\$\\d+\", re.MULTILINE)\n",
    "    \n",
    "    data = {\n",
    "        'moves': [],\n",
    "        'fens': []\n",
    "    }\n",
    "    for game in tqdm(games):\n",
    "        result1 = [] # Stores all the commented moves for this game\n",
    "        result2 = [] # Stores all the commented fens for this game\n",
    "        \n",
    "        string = str(game.mainline_moves())\n",
    "        string = re.sub(re0, \"\", string) # Remove comments\n",
    "        string = re.sub(re1, \"\", string)\n",
    "        string = re.sub(re2, \"\", string)\n",
    "        string = re.sub(re3, \"\", string)\n",
    "        string = re.sub(re4, \"\", string)\n",
    "        \n",
    "        if \"{\" in string:\n",
    "            continue\n",
    "        \n",
    "        moves = list(filter(None, string.split(\" \")))\n",
    "        mainline = list(game.mainline())\n",
    "                \n",
    "        helper = []\n",
    "        \n",
    "        board = game.board()                \n",
    "        \n",
    "        for i in range(len(moves)):\n",
    "            move = moves[i]\n",
    "            comment = mainline[i].comment\n",
    "            helper.append(move)\n",
    "            board.push(mainline[i].move)\n",
    "            \n",
    "            if comment: # comment exists  \n",
    "                counter += 1\n",
    "                result1.append([helper.copy(), comment])\n",
    "                result2.append([str(board.board_fen()), comment])\n",
    "            \n",
    "        data['moves'].append(result1)\n",
    "        data['fens'].append(result2)\n",
    "                               \n",
    "    print(counter, 'commented moves found')        \n",
    "    return data\n",
    "                               \n",
    "data = dataExtractor2(annotated_games)"
   ]
  },
  {
   "cell_type": "code",
   "execution_count": null,
   "metadata": {},
   "outputs": [],
   "source": [
    "data['fens'][0]"
   ]
  },
  {
   "cell_type": "code",
   "execution_count": null,
   "metadata": {},
   "outputs": [],
   "source": [
    "with open('data/data2.json', 'w') as outfile:  \n",
    "    json.dump(data, outfile)"
   ]
  },
  {
   "cell_type": "code",
   "execution_count": null,
   "metadata": {},
   "outputs": [],
   "source": []
  }
 ],
 "metadata": {
  "kernelspec": {
   "display_name": "Python 3",
   "language": "python",
   "name": "python3"
  },
  "language_info": {
   "codemirror_mode": {
    "name": "ipython",
    "version": 3
   },
   "file_extension": ".py",
   "mimetype": "text/x-python",
   "name": "python",
   "nbconvert_exporter": "python",
   "pygments_lexer": "ipython3",
   "version": "3.7.1"
  }
 },
 "nbformat": 4,
 "nbformat_minor": 2
}
